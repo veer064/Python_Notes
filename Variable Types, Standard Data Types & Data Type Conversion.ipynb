{
 "cells": [
  {
   "cell_type": "code",
   "execution_count": 1,
   "metadata": {},
   "outputs": [],
   "source": [
    "#Import library\n",
    "from IPython.display import Image"
   ]
  },
  {
   "cell_type": "markdown",
   "metadata": {},
   "source": [
    "## What are `variables` ?\n",
    "--------------------------------------------"
   ]
  },
  {
   "cell_type": "markdown",
   "metadata": {},
   "source": [
    "- Variables are nothing but reserved memory locations to store values. It means that when you create a variable, you reserve some space in the memory. \n",
    "- Based on the data type of a variable, the interpreter allocates memory and decides what can be stored in the reserved memory.  \n",
    "- Therefore, by assigning different data types to the variables, you can store integers, decimals or characters in these variables.\n",
    "\n",
    "__* Python variables do not need explicit declaration to reserve memory space.__ \n",
    "\n",
    "__* The declaration happens automatically when you assign a value to a variable.__ \n",
    "\n",
    "__* The equal sign (=) is used to assign values to variables.__"
   ]
  },
  {
   "cell_type": "markdown",
   "metadata": {},
   "source": [
    "Note:\n",
    "----\n",
    "\n",
    "The __operand to the left__ of the = operator is the __name of the variable__ and the __operand to the right__ of the = operator is __the value stored in the variable.__ "
   ]
  },
  {
   "cell_type": "code",
   "execution_count": 2,
   "metadata": {},
   "outputs": [
    {
     "name": "stdout",
     "output_type": "stream",
     "text": [
      "100\n",
      "1000.0\n",
      "John\n"
     ]
    }
   ],
   "source": [
    "counter = 100 # An integer assignment\n",
    "\n",
    "miles   = 1000.0 # A floating point\n",
    "\n",
    "name    = \"John\" # A string\n",
    "\n",
    "\"\"\" Here,   100,   1000.0   and   \"John\"   are   the   values   assigned   to \n",
    "counter, miles, and name variables, respectively.\"\"\"\n",
    "\n",
    "print(counter)\n",
    "\n",
    "print(miles)\n",
    "\n",
    "print(name)"
   ]
  },
  {
   "cell_type": "markdown",
   "metadata": {},
   "source": [
    "-----------------------------------------------\n",
    "## Multiple Assignment\n",
    "------------------------------------------------"
   ]
  },
  {
   "cell_type": "markdown",
   "metadata": {},
   "source": [
    "##### Python allows you to assign a single value to several variables simultaneously."
   ]
  },
  {
   "cell_type": "code",
   "execution_count": 3,
   "metadata": {},
   "outputs": [
    {
     "name": "stdout",
     "output_type": "stream",
     "text": [
      "1\n",
      "1\n",
      "1\n"
     ]
    }
   ],
   "source": [
    "a = b = c = 1\n",
    "\n",
    "\"\"\"Here, an integer object is created with the value 1, \n",
    "and all the three variables are assigned to the same memory location.\"\"\"\n",
    "\n",
    "print(a)\n",
    "\n",
    "print(b)\n",
    "\n",
    "print(c)"
   ]
  },
  {
   "cell_type": "markdown",
   "metadata": {},
   "source": [
    "##### You can also assign multiple objects to multiple variables."
   ]
  },
  {
   "cell_type": "code",
   "execution_count": 4,
   "metadata": {},
   "outputs": [
    {
     "name": "stdout",
     "output_type": "stream",
     "text": [
      "1\n",
      "2\n",
      "john\n"
     ]
    }
   ],
   "source": [
    "a, b, c = 1, 2, \"john\"\n",
    "\n",
    "\"\"\"Here, two integer objects with values 1 and 2 are assigned to the variables a and b respectively,\n",
    "and one string object with the value \"john\" is assigned to the variable c.\"\"\"\n",
    "\n",
    "print(a)\n",
    "\n",
    "print(b)\n",
    "\n",
    "print(c)"
   ]
  },
  {
   "cell_type": "markdown",
   "metadata": {},
   "source": [
    "---------------------------------------------\n",
    "# Standard DataTypes\n",
    "------------------------------------------"
   ]
  },
  {
   "cell_type": "markdown",
   "metadata": {},
   "source": [
    "- __The data stored in memory can be of many types.__ \n",
    "  - For example, \n",
    "    - a __person's age__ is stored as a __numeric value__ \n",
    "    - and his or her __address__ is stored as __alphanumeric characters.__ \n",
    "- Python has various standard data types that are used to define the operations possible on them and the storage method for each of them.\n",
    "\n",
    "> # Python has five standard data types-\n",
    "  - ## Numbers\n",
    "  - ## String\n",
    "  - ## List\n",
    "  - ## Tuple\n",
    "  - ## Dictionary"
   ]
  },
  {
   "cell_type": "markdown",
   "metadata": {},
   "source": [
    "### Note:\n",
    "- __We can use the `type()` function to know which class a variable or a value belongs to.__ \n",
    "\n",
    "- __Similarly, the `isinstance()` function is used to check if an object belongs to a particular class.__ "
   ]
  },
  {
   "cell_type": "markdown",
   "metadata": {},
   "source": [
    "## Python Numbers\n",
    "------\n",
    "\n",
    "- Number data typesstore numeric values. \n",
    "- Number objects are created when you assign a value to them. "
   ]
  },
  {
   "cell_type": "code",
   "execution_count": 5,
   "metadata": {},
   "outputs": [
    {
     "name": "stdout",
     "output_type": "stream",
     "text": [
      "1 is of type <class 'int'>\n",
      "12.34 is of type <class 'float'>\n",
      "(1+2j) is of type <class 'complex'>\n",
      "(1+2j) is a complex number? True\n"
     ]
    }
   ],
   "source": [
    "var1 = 1\n",
    "\n",
    "var2 = 12.34\n",
    "\n",
    "var3 = 1+2j\n",
    "\n",
    "print(var1, 'is of type', type(var1))\n",
    "\n",
    "print(var2, 'is of type', type(var2))\n",
    "\n",
    "print(var3, 'is of type', type(var3))\n",
    "\n",
    "print(var3, 'is a complex number?', isinstance(var3, complex)) #returns True or False"
   ]
  },
  {
   "cell_type": "markdown",
   "metadata": {},
   "source": [
    "------------------------\n",
    "`You can also delete the reference to a number object by using the` __*del*__ `statement. \n",
    "The syntax of the delstatement is −`"
   ]
  },
  {
   "cell_type": "raw",
   "metadata": {},
   "source": [
    "del var1[,var2[,var3[....,varN]]]]"
   ]
  },
  {
   "cell_type": "markdown",
   "metadata": {},
   "source": [
    "###### You can delete a single object or multiple objects by using the delstatement."
   ]
  },
  {
   "cell_type": "raw",
   "metadata": {},
   "source": [
    "del var\n",
    "\n",
    "del var_a, var_b"
   ]
  },
  {
   "cell_type": "code",
   "execution_count": 6,
   "metadata": {},
   "outputs": [],
   "source": [
    "del var1"
   ]
  },
  {
   "cell_type": "code",
   "execution_count": 7,
   "metadata": {},
   "outputs": [
    {
     "ename": "NameError",
     "evalue": "name 'var1' is not defined",
     "output_type": "error",
     "traceback": [
      "\u001b[1;31m---------------------------------------------------------------------------\u001b[0m",
      "\u001b[1;31mNameError\u001b[0m                                 Traceback (most recent call last)",
      "\u001b[1;32m<ipython-input-7-1b1d3752adce>\u001b[0m in \u001b[0;36m<module>\u001b[1;34m\u001b[0m\n\u001b[1;32m----> 1\u001b[1;33m \u001b[0mvar1\u001b[0m\u001b[1;33m\u001b[0m\u001b[1;33m\u001b[0m\u001b[0m\n\u001b[0m",
      "\u001b[1;31mNameError\u001b[0m: name 'var1' is not defined"
     ]
    }
   ],
   "source": [
    "var1"
   ]
  },
  {
   "cell_type": "code",
   "execution_count": null,
   "metadata": {},
   "outputs": [],
   "source": [
    "del var2, var3\n",
    "\n",
    "print(var2, var3)"
   ]
  },
  {
   "cell_type": "markdown",
   "metadata": {},
   "source": [
    "#### This way we can create and delete variables \n",
    "\n",
    "----------------------------------------------------------------------"
   ]
  },
  {
   "cell_type": "markdown",
   "metadata": {},
   "source": [
    "## Python supports three different numerical type --"
   ]
  },
  {
   "cell_type": "markdown",
   "metadata": {},
   "source": [
    "- ### int (signed integers)\n",
    "- ### float (floating point real values)\n",
    "- ### complex (complex numbers)"
   ]
  },
  {
   "cell_type": "raw",
   "metadata": {},
   "source": [
    "1. All integers in Python3 are represented as long integers. Hence, there is no separate number type as long."
   ]
  },
  {
   "cell_type": "code",
   "execution_count": null,
   "metadata": {},
   "outputs": [],
   "source": [
    "\"Here are some examples of numbers - \"\n",
    "Image('eg_numbers.JPG', width = 500, height = 700)"
   ]
  },
  {
   "cell_type": "markdown",
   "metadata": {},
   "source": [
    "----------------------\n",
    "## Python Strings\n",
    "\n",
    "---------------\n",
    "\n",
    "### *Strings*  in  Python  are  identified  as  a  contiguous  set  of  characters  represented  in  the quotation marks. \n",
    "- Python allows either pair of __single ('') or double quotes(\"\").__\n",
    "  - __Subsets of strings can be taken using the slice operator ([  ] and [:]) with indexes starting at 0 in the beginning of the string and working their way from -1 to the end.__\n",
    "  - The __plus (+)__ sign is the __string concatenation operator__ \n",
    "  - and the __asterisk (*)__ is the __repetition operator.__ "
   ]
  },
  {
   "cell_type": "code",
   "execution_count": null,
   "metadata": {},
   "outputs": [],
   "source": [
    "string = 'Hello! World of strings'\n",
    "\n",
    "print(string)\n",
    "\n",
    "print(string[5])\n",
    "\n",
    "print(string[0:5])\n",
    "\n",
    "print(string[:6])\n",
    "\n",
    "print(string[7:])\n",
    "\n",
    "print(string[:6] * 2)\n",
    "\n",
    "print(string[:6] + ' ' + 'Veerendra')\n",
    "\n",
    "print(string[:6] + string[7:])"
   ]
  },
  {
   "cell_type": "markdown",
   "metadata": {},
   "source": [
    "---------------\n",
    "## Python Lists\n",
    "--------\n",
    "\n",
    "- Lists  are  the  most  versatile  of  Python's  compound  data  types. \n",
    "### A  list  contains  items separated by commas and enclosed within square brackets ([]). \n",
    "- To some extent, __lists are similar to arrays in C.__\n",
    "- *One of the differences between them is that __all the items belonging to a list can be of different data type.__*"
   ]
  },
  {
   "cell_type": "code",
   "execution_count": null,
   "metadata": {},
   "outputs": [],
   "source": [
    "list = [ 'abcd', 786 , 2.23, 'john', 70.2 ]\n",
    "\n",
    "list"
   ]
  },
  {
   "cell_type": "markdown",
   "metadata": {},
   "source": [
    "- #### The  values  stored  in  a  list  can  be  accessed  using  the  slice  operator  ([  ]  and  [:])  with indexes starting at 0 in the beginning of the list and working their way to end -1."
   ]
  },
  {
   "cell_type": "code",
   "execution_count": null,
   "metadata": {},
   "outputs": [],
   "source": [
    "print(list, '\\n')          # Prints complete list\n",
    "\n",
    "print(list[0], '\\n')       # Prints first element of the list\n",
    "\n",
    "print(list[1:3], '\\n')     # Prints elements starting from 2nd till 3rd \n",
    "\n",
    "print(list[2:], '\\n')      # Prints elements starting from 3rd element"
   ]
  },
  {
   "cell_type": "markdown",
   "metadata": {},
   "source": [
    "-  __The plus (+) sign is the list concatenation operator, and the asterisk(*) is the repetition operator.__"
   ]
  },
  {
   "cell_type": "code",
   "execution_count": null,
   "metadata": {},
   "outputs": [],
   "source": [
    "tinylist = [123, 'john']\n",
    "\n",
    "print (tinylist * 2)  # Prints list two times\n",
    "\n",
    "print (list + tinylist) # Prints concatenated lists"
   ]
  },
  {
   "cell_type": "markdown",
   "metadata": {},
   "source": [
    "-----------------\n",
    "## Python Tuples\n",
    "-----------\n",
    "\n",
    "- A  tuple  is  another  sequence  data  type  that  is  similar  to  the  list. \n",
    "- ### A  tuple  consists  of  a number of values separated by commas. Unlike lists, however, tuples are enclosed within parenthesis."
   ]
  },
  {
   "cell_type": "code",
   "execution_count": null,
   "metadata": {},
   "outputs": [],
   "source": [
    "tuple1 = ('abcd',786,2.23,'john',70.2)\n",
    "\n",
    "tinytuple = (123,'john')\n",
    "\n",
    "print(tuple1, '\\n') #Prints complete tuple1\n",
    "\n",
    "print(tuple1[0], '\\n') #Prints first element of the tuple1\n",
    "\n",
    "print(tuple1[1:3], '\\n') #Prints elements starting from 2nd till 3rd \n",
    "\n",
    "print(tuple1[2:], '\\n') #Prints elements starting from 3rd element\n",
    "\n",
    "print(tinytuple *2, '\\n') #Prints tuple two times\n",
    "\n",
    "print(tuple1 +tinytuple, '\\n') #Prints concatenated tuple"
   ]
  },
  {
   "cell_type": "markdown",
   "metadata": {},
   "source": [
    "> ----------------\n",
    "> ## Main differene between List and Tuple.\n",
    "> ------------\n",
    "> __>>>__ *'Lists'* __are enclosed in brackets ( [ ] ) and their elements and size can be changed(__*Mutable*__),\\\n",
    "while__ *'tuples'* __are enclosed in parentheses ( ( ) ) and cannot be updated(__*Immutable*__).__ \n",
    "\n",
    "> __>>> Tuples can be thought of as read-onlylists.__"
   ]
  },
  {
   "cell_type": "code",
   "execution_count": null,
   "metadata": {},
   "outputs": [],
   "source": [
    "list[2]=1000 # Valid syntax with list"
   ]
  },
  {
   "cell_type": "code",
   "execution_count": null,
   "metadata": {},
   "outputs": [],
   "source": [
    "tuple[2]=1000 # Invalid syntax with tuple"
   ]
  },
  {
   "cell_type": "markdown",
   "metadata": {},
   "source": [
    "-------------\n",
    "## Python Dictionary\n",
    "-----------\n",
    "\n",
    "- __Python's dictionaries__ are kind of hash-table type. They __work like associative arrays or hashes found in Perl__ and __consist of key-value pairs.__\n",
    "- A dictionary *__key__* can be almost __any Python type__, but are *usually numbers or strings.* *__Values__*, on the other hand, __can be any arbitrary Python object.__\n",
    "\n",
    "- *__Dictionaries are enclosed by curly braces ({ }) and values can be assigned and accessed using square braces ([ ]).__*"
   ]
  },
  {
   "cell_type": "code",
   "execution_count": null,
   "metadata": {},
   "outputs": [],
   "source": [
    "dict1 = {}  # declaring a dictionary with name dict\n",
    "\n",
    "dict1['one' ] = \"This is one.\"  # Key -> 'one'(string type) && Value -> \"This is one.\" (string object)\n",
    "\n",
    "dict1[2] = \"This is two.\"  # Key -> 2(integer type) && Value -> \"This is two.\" (string object)\n",
    "\n",
    "#calling dictionary -> dict\n",
    "dict1"
   ]
  },
  {
   "cell_type": "code",
   "execution_count": null,
   "metadata": {},
   "outputs": [],
   "source": [
    "tinydict ={'name':'john','code':6734,'dept':'sales'}\n",
    "\n",
    "print(dict1['one'], '\\n') # Prints value for 'one' key\n",
    "\n",
    "print(dict1[2], '\\n') # Prints value for 2 key\n",
    "\n",
    "print(tinydict, '\\n')# Prints complete dictionary\n",
    "\n",
    "print(tinydict.keys(), '\\n')# Prints all the keys\n",
    "\n",
    "print(tinydict.values(), '\\n')# Prints all the values"
   ]
  },
  {
   "cell_type": "markdown",
   "metadata": {},
   "source": [
    "### Note :\n",
    "__Dictionaries have no concept of order among the elements. It is incorrect to say that the elements are \"out of order\"; they are simply unordered.__"
   ]
  },
  {
   "cell_type": "markdown",
   "metadata": {},
   "source": [
    "--------------------------------------\n",
    "# Data Type Conversion\n",
    "------------------"
   ]
  },
  {
   "cell_type": "markdown",
   "metadata": {},
   "source": [
    "- The process of converting the value of one data type (integer, string, float, etc.) to another data type is called type conversion. Python has two types of type conversion.\n",
    "\n",
    "    1. Implicit Type Conversion\n",
    "    2. Explicit Type Conversion\n"
   ]
  },
  {
   "cell_type": "markdown",
   "metadata": {},
   "source": [
    "## Implicit Type Conversion\n",
    "\n",
    "- In __Implicit type conversion__, *Python automatically converts one data type (smaller datatype) to another data type (lager data type) to avoid data loss.* This process doesn't need any user involvement.\n",
    "\n",
    "__>>> Example 1: Converting integer to float__"
   ]
  },
  {
   "cell_type": "code",
   "execution_count": 1,
   "metadata": {},
   "outputs": [
    {
     "name": "stdout",
     "output_type": "stream",
     "text": [
      "datatype of num_int: <class 'int'>\n",
      "datatype of num_flo: <class 'float'>\n",
      "Value of num_new: 124.23\n",
      "datatype of num_new: <class 'float'>\n"
     ]
    }
   ],
   "source": [
    "# Converting integer to float\n",
    "\n",
    "num_int = 123   #int type\n",
    "num_flo = 1.23  # float type\n",
    "\n",
    "num_new = num_int + num_flo  #adding int to float\n",
    "\n",
    "print(\"datatype of num_int:\",type(num_int))  \n",
    "print(\"datatype of num_flo:\",type(num_flo))\n",
    "\n",
    "print(\"Value of num_new:\",num_new) \n",
    "print(\"datatype of num_new:\",type(num_new))"
   ]
  },
  {
   "cell_type": "markdown",
   "metadata": {},
   "source": [
    "__In the above program,__\n",
    "- We add two variables `num_int` and `num_flo`, storing the value in `num_new`.\n",
    "- In the output, we can see the data type of `num_int` is an `integer` while the data type of `num_flo` is a `float`.\n",
    "- Also, we can see the `num_new` has a `float` data type because Python always converts smaller data types to larger data types to avoid the loss of data.\n",
    "\n",
    "\n",
    "__>>> Example 2: Addition of string(higher) data type and integer(lower) datatype__"
   ]
  },
  {
   "cell_type": "code",
   "execution_count": 2,
   "metadata": {},
   "outputs": [
    {
     "name": "stdout",
     "output_type": "stream",
     "text": [
      "Data type of num_int: <class 'int'>\n",
      "Data type of num_str: <class 'str'>\n"
     ]
    },
    {
     "ename": "TypeError",
     "evalue": "unsupported operand type(s) for +: 'int' and 'str'",
     "output_type": "error",
     "traceback": [
      "\u001b[1;31m---------------------------------------------------------------------------\u001b[0m",
      "\u001b[1;31mTypeError\u001b[0m                                 Traceback (most recent call last)",
      "\u001b[1;32m<ipython-input-2-6e3c0f0ba491>\u001b[0m in \u001b[0;36m<module>\u001b[1;34m\u001b[0m\n\u001b[0;32m      5\u001b[0m \u001b[0mprint\u001b[0m\u001b[1;33m(\u001b[0m\u001b[1;34m\"Data type of num_str:\"\u001b[0m\u001b[1;33m,\u001b[0m\u001b[0mtype\u001b[0m\u001b[1;33m(\u001b[0m\u001b[0mnum_str\u001b[0m\u001b[1;33m)\u001b[0m\u001b[1;33m)\u001b[0m\u001b[1;33m\u001b[0m\u001b[1;33m\u001b[0m\u001b[0m\n\u001b[0;32m      6\u001b[0m \u001b[1;33m\u001b[0m\u001b[0m\n\u001b[1;32m----> 7\u001b[1;33m \u001b[0mprint\u001b[0m\u001b[1;33m(\u001b[0m\u001b[0mnum_int\u001b[0m\u001b[1;33m+\u001b[0m\u001b[0mnum_str\u001b[0m\u001b[1;33m)\u001b[0m\u001b[1;33m\u001b[0m\u001b[1;33m\u001b[0m\u001b[0m\n\u001b[0m",
      "\u001b[1;31mTypeError\u001b[0m: unsupported operand type(s) for +: 'int' and 'str'"
     ]
    }
   ],
   "source": [
    "num_int = 123\n",
    "num_str = \"456\"\n",
    "\n",
    "print(\"Data type of num_int:\",type(num_int))\n",
    "print(\"Data type of num_str:\",type(num_str))\n",
    "\n",
    "print(num_int+num_str)"
   ]
  },
  {
   "cell_type": "markdown",
   "metadata": {},
   "source": [
    "__In the above program,__\n",
    "- We add two variables `num_int` and `num_str`.\n",
    "- As we can see from the output, we got `TypeError`. \n",
    ">Python is not able to use Implicit Conversion in such conditions.\n",
    " However, Python has a solution for these types of situations which is known as __Explicit Conversion.__\n"
   ]
  },
  {
   "cell_type": "markdown",
   "metadata": {},
   "source": [
    "## Explicit Type Conversion"
   ]
  },
  {
   "cell_type": "markdown",
   "metadata": {},
   "source": [
    "- In __Explicit Type Conversion__, users convert the data type of an object to required data type. *We use the predefined functions like __int(), float(), str(), etc__ to perform explicit type conversion.*\n",
    "\n",
    "- This type of conversion is also called typecasting because the user casts(changes) the data type of the objects.\n",
    "\n",
    "- __>>> Syntax: `<required_datatype>(expression)`__\n",
    "\n",
    "- Typecasting can be done by assigning the required data type function to the expression."
   ]
  },
  {
   "cell_type": "markdown",
   "metadata": {},
   "source": [
    "__Example 3: Addition of string and integer using explicit conversion__"
   ]
  },
  {
   "cell_type": "code",
   "execution_count": 3,
   "metadata": {},
   "outputs": [
    {
     "name": "stdout",
     "output_type": "stream",
     "text": [
      "Data type of num_int: <class 'int'>\n",
      "Data type of num_str before Type Casting: <class 'str'>\n",
      "Data type of num_str after Type Casting: <class 'int'>\n",
      "Sum of num_int and num_str: 579\n",
      "Data type of the sum: <class 'int'>\n"
     ]
    }
   ],
   "source": [
    "num_int = 123  # int type\n",
    "num_str = \"456\" # str type\n",
    "\n",
    "print(\"Data type of num_int:\",type(num_int))\n",
    "print(\"Data type of num_str before Type Casting:\",type(num_str))\n",
    "\n",
    "num_str = int(num_str) #Type casting str to int\n",
    "\n",
    "print(\"Data type of num_str after Type Casting:\",type(num_str)) \n",
    "\n",
    "num_sum = num_int + num_str\n",
    "\n",
    "print(\"Sum of num_int and num_str:\",num_sum)\n",
    "print(\"Data type of the sum:\",type(num_sum))"
   ]
  },
  {
   "cell_type": "markdown",
   "metadata": {},
   "source": [
    "__In the above program,__\n",
    "\n",
    "- We add `num_str` and `num_int` variable.\n",
    "- We converted `num_str` from __string__(higher) to __integer__(lower) type using __int()__ function to perform the addition.\n",
    "- After converting `num_str` to an *integer* value, Python is able to add these two variables.\n",
    "- We got the `num_sum` value and data type to be an __integer.__\n"
   ]
  },
  {
   "cell_type": "markdown",
   "metadata": {},
   "source": [
    "#### Key Points to Remember:\n",
    "1. __Type Conversion is conversion of object from one datatype to another datatype.__\n",
    "\n",
    "2. __Implicit Type Conversion is automatically performed by Python interpreter.__\n",
    "\n",
    "3. __Python avoids loss of data in Implicit Type Conversion.__\n",
    "\n",
    "4. __Explicit Type Conversion is also called Type Casting, the data types of objects are converted using predefined functions by the user.__\n",
    "\n",
    "5. __In Type casting, loss of data may occur as we enforce the object to a specific data type.__"
   ]
  }
 ],
 "metadata": {
  "kernelspec": {
   "display_name": "Python 3",
   "language": "python",
   "name": "python3"
  },
  "language_info": {
   "codemirror_mode": {
    "name": "ipython",
    "version": 3
   },
   "file_extension": ".py",
   "mimetype": "text/x-python",
   "name": "python",
   "nbconvert_exporter": "python",
   "pygments_lexer": "ipython3",
   "version": "3.7.6"
  }
 },
 "nbformat": 4,
 "nbformat_minor": 4
}
